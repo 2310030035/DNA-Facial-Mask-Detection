{
 "cells": [
  {
   "cell_type": "markdown",
   "id": "094d87b6",
   "metadata": {},
   "source": [
    "Import packages, and dataset\n",
    "\n"
   ]
  },
  {
   "cell_type": "code",
   "execution_count": 10,
   "id": "4fe9f0cd",
   "metadata": {},
   "outputs": [
    {
     "name": "stdout",
     "output_type": "stream",
     "text": [
      "[INFO] Loading images...\n"
     ]
    },
    {
     "name": "stderr",
     "output_type": "stream",
     "text": [
      "d:\\DNA Folder\\DNA Project\\.venv\\Lib\\site-packages\\PIL\\Image.py:1047: UserWarning: Palette images with Transparency expressed in bytes should be converted to RGBA images\n",
      "  warnings.warn(\n"
     ]
    }
   ],
   "source": [
    "import os\n",
    "import cv2\n",
    "import numpy as np\n",
    "from sklearn.model_selection import train_test_split\n",
    "from tensorflow.keras.applications import MobileNetV2\n",
    "from tensorflow.keras.layers import AveragePooling2D, Dropout, Flatten, Dense, Input\n",
    "from tensorflow.keras.models import Model\n",
    "from tensorflow.keras.optimizers import Adam\n",
    "from tensorflow.keras.utils import to_categorical\n",
    "from tensorflow.keras.preprocessing.image import ImageDataGenerator, img_to_array, load_img\n",
    "\n",
    "# Set your data directory\n",
    "# ...existing code...\n",
    "data_dir = r\"D:\\\\DNA Folder\\\\DNA Project\\\\dataset\\\\data\"\n",
    "# ...existing code... # Change this path\n",
    "categories = [\"with_mask\", \"without_mask\"]\n",
    "img_size = 224\n",
    "images = []\n",
    "labels = []\n",
    "\n",
    "# Load and preprocess data\n",
    "print(\"[INFO] Loading images...\")\n",
    "for category in categories:\n",
    "    path = os.path.join(data_dir, category)\n",
    "    if not os.path.exists(path):\n",
    "        print(f\"[WARNING] Directory does not exist: {path}. Skipping this category.\")\n",
    "        continue\n",
    "    for img in os.listdir(path):\n",
    "        img_path = os.path.join(path, img)\n",
    "        image = load_img(img_path, target_size=(img_size, img_size))\n",
    "        image = img_to_array(image)\n",
    "        images.append(image)\n",
    "        labels.append(category)\n",
    "\n",
    "# Convert labels to numerical format\n",
    "labels = [0 if label == \"with_mask\" else 1 for label in labels]\n",
    "labels = to_categorical(labels)\n",
    "\n",
    "if len(images) == 0:\n",
    "    raise ValueError(\"[ERROR] No images were loaded. Please check your dataset path and folder structure.\")\n",
    "\n",
    "images = np.array(images, dtype=\"float32\")\n",
    "images = images / 255.0\n",
    "\n",
    "# Split data into training and testing sets\n",
    "(trainX, testX, trainY, testY) = train_test_split(images, labels, test_size=0.20, stratify=labels, random_state=42)\n",
    "\n",
    "# Create a data augmenter for real-time data augmentation\n",
    "aug = ImageDataGenerator(\n",
    "    rotation_range=20,\n",
    "    zoom_range=0.15,\n",
    "    width_shift_range=0.2,\n",
    "    height_shift_range=0.2,\n",
    "    shear_range=0.15,\n",
    "    horizontal_flip=True,\n",
    "    fill_mode=\"nearest\")"
   ]
  },
  {
   "cell_type": "markdown",
   "id": "9c6ad965",
   "metadata": {},
   "source": [
    "Building the model"
   ]
  },
  {
   "cell_type": "code",
   "execution_count": 11,
   "id": "1b07c321",
   "metadata": {},
   "outputs": [
    {
     "name": "stdout",
     "output_type": "stream",
     "text": [
      "[INFO] Building and compiling the model...\n"
     ]
    },
    {
     "name": "stderr",
     "output_type": "stream",
     "text": [
      "C:\\Users\\saiud\\AppData\\Local\\Temp\\ipykernel_19480\\4094826070.py:4: UserWarning: `input_shape` is undefined or non-square, or `rows` is not in [96, 128, 160, 192, 224]. Weights for input shape (224, 224) will be loaded as the default.\n",
      "  base_model = MobileNetV2(weights=\"imagenet\", include_top=False, input_tensor=Input(shape=(224, 224, 3)))\n"
     ]
    },
    {
     "name": "stdout",
     "output_type": "stream",
     "text": [
      "Downloading data from https://storage.googleapis.com/tensorflow/keras-applications/mobilenet_v2/mobilenet_v2_weights_tf_dim_ordering_tf_kernels_1.0_224_no_top.h5\n",
      "\u001b[1m9406464/9406464\u001b[0m \u001b[32m━━━━━━━━━━━━━━━━━━━━\u001b[0m\u001b[37m\u001b[0m \u001b[1m6s\u001b[0m 1us/step\n"
     ]
    }
   ],
   "source": [
    "print(\"[INFO] Building and compiling the model...\")\n",
    "\n",
    "# Load the MobileNetV2 network, freezing its base layers\n",
    "base_model = MobileNetV2(weights=\"imagenet\", include_top=False, input_tensor=Input(shape=(224, 224, 3)))\n",
    "\n",
    "# Add new layers on top for classification\n",
    "head_model = base_model.output\n",
    "head_model = AveragePooling2D(pool_size=(7, 7))(head_model)\n",
    "head_model = Flatten(name=\"flatten\")(head_model)\n",
    "head_model = Dense(128, activation=\"relu\")(head_model)\n",
    "head_model = Dropout(0.5)(head_model)\n",
    "head_model = Dense(2, activation=\"softmax\")(head_model)\n",
    "\n",
    "# Combine the base model and new layers\n",
    "model = Model(inputs=base_model.input, outputs=head_model)\n",
    "\n",
    "# Freeze the layers of the base model\n",
    "for layer in base_model.layers:\n",
    "    layer.trainable = False\n",
    "\n",
    "# Compile the model\n",
    "optimizer = Adam(learning_rate=0.0001)\n",
    "model.compile(loss=\"binary_crossentropy\", optimizer=optimizer, metrics=[\"accuracy\"])"
   ]
  },
  {
   "cell_type": "markdown",
   "id": "2a88b0f4",
   "metadata": {},
   "source": [
    "Training the model"
   ]
  },
  {
   "cell_type": "code",
   "execution_count": 12,
   "id": "4d18785e",
   "metadata": {},
   "outputs": [
    {
     "name": "stdout",
     "output_type": "stream",
     "text": [
      "[INFO] Training the model...\n"
     ]
    },
    {
     "name": "stderr",
     "output_type": "stream",
     "text": [
      "d:\\DNA Folder\\DNA Project\\.venv\\Lib\\site-packages\\keras\\src\\trainers\\data_adapters\\py_dataset_adapter.py:121: UserWarning: Your `PyDataset` class should call `super().__init__(**kwargs)` in its constructor. `**kwargs` can include `workers`, `use_multiprocessing`, `max_queue_size`. Do not pass these arguments to `fit()`, as they will be ignored.\n",
      "  self._warn_if_super_not_called()\n"
     ]
    },
    {
     "name": "stdout",
     "output_type": "stream",
     "text": [
      "Epoch 1/20\n",
      "\u001b[1m188/188\u001b[0m \u001b[32m━━━━━━━━━━━━━━━━━━━━\u001b[0m\u001b[37m\u001b[0m \u001b[1m193s\u001b[0m 984ms/step - accuracy: 0.8923 - loss: 0.2967 - val_accuracy: 0.9689 - val_loss: 0.1097\n",
      "Epoch 2/20\n"
     ]
    },
    {
     "name": "stderr",
     "output_type": "stream",
     "text": [
      "d:\\DNA Folder\\DNA Project\\.venv\\Lib\\site-packages\\keras\\src\\trainers\\epoch_iterator.py:116: UserWarning: Your input ran out of data; interrupting training. Make sure that your dataset or generator can generate at least `steps_per_epoch * epochs` batches. You may need to use the `.repeat()` function when building your dataset.\n",
      "  self._interrupted_warning()\n"
     ]
    },
    {
     "name": "stdout",
     "output_type": "stream",
     "text": [
      "\u001b[1m188/188\u001b[0m \u001b[32m━━━━━━━━━━━━━━━━━━━━\u001b[0m\u001b[37m\u001b[0m \u001b[1m29s\u001b[0m 151ms/step - accuracy: 1.0000 - loss: 0.1100 - val_accuracy: 0.9689 - val_loss: 0.1094\n",
      "Epoch 3/20\n",
      "\u001b[1m188/188\u001b[0m \u001b[32m━━━━━━━━━━━━━━━━━━━━\u001b[0m\u001b[37m\u001b[0m \u001b[1m200s\u001b[0m 1s/step - accuracy: 0.9724 - loss: 0.1046 - val_accuracy: 0.9702 - val_loss: 0.0827\n",
      "Epoch 4/20\n",
      "\u001b[1m188/188\u001b[0m \u001b[32m━━━━━━━━━━━━━━━━━━━━\u001b[0m\u001b[37m\u001b[0m \u001b[1m30s\u001b[0m 155ms/step - accuracy: 0.9688 - loss: 0.0897 - val_accuracy: 0.9709 - val_loss: 0.0825\n",
      "Epoch 5/20\n",
      "\u001b[1m188/188\u001b[0m \u001b[32m━━━━━━━━━━━━━━━━━━━━\u001b[0m\u001b[37m\u001b[0m \u001b[1m179s\u001b[0m 952ms/step - accuracy: 0.9739 - loss: 0.0860 - val_accuracy: 0.9762 - val_loss: 0.0670\n",
      "Epoch 6/20\n",
      "\u001b[1m188/188\u001b[0m \u001b[32m━━━━━━━━━━━━━━━━━━━━\u001b[0m\u001b[37m\u001b[0m \u001b[1m28s\u001b[0m 146ms/step - accuracy: 1.0000 - loss: 0.0670 - val_accuracy: 0.9755 - val_loss: 0.0669\n",
      "Epoch 7/20\n",
      "\u001b[1m188/188\u001b[0m \u001b[32m━━━━━━━━━━━━━━━━━━━━\u001b[0m\u001b[37m\u001b[0m \u001b[1m167s\u001b[0m 890ms/step - accuracy: 0.9764 - loss: 0.0732 - val_accuracy: 0.9788 - val_loss: 0.0616\n",
      "Epoch 8/20\n",
      "\u001b[1m188/188\u001b[0m \u001b[32m━━━━━━━━━━━━━━━━━━━━\u001b[0m\u001b[37m\u001b[0m \u001b[1m28s\u001b[0m 144ms/step - accuracy: 0.9688 - loss: 0.0768 - val_accuracy: 0.9795 - val_loss: 0.0616\n",
      "Epoch 9/20\n",
      "\u001b[1m188/188\u001b[0m \u001b[32m━━━━━━━━━━━━━━━━━━━━\u001b[0m\u001b[37m\u001b[0m \u001b[1m168s\u001b[0m 893ms/step - accuracy: 0.9809 - loss: 0.0583 - val_accuracy: 0.9801 - val_loss: 0.0560\n",
      "Epoch 10/20\n",
      "\u001b[1m188/188\u001b[0m \u001b[32m━━━━━━━━━━━━━━━━━━━━\u001b[0m\u001b[37m\u001b[0m \u001b[1m28s\u001b[0m 145ms/step - accuracy: 1.0000 - loss: 0.0212 - val_accuracy: 0.9801 - val_loss: 0.0560\n",
      "Epoch 11/20\n",
      "\u001b[1m188/188\u001b[0m \u001b[32m━━━━━━━━━━━━━━━━━━━━\u001b[0m\u001b[37m\u001b[0m \u001b[1m173s\u001b[0m 921ms/step - accuracy: 0.9817 - loss: 0.0573 - val_accuracy: 0.9815 - val_loss: 0.0547\n",
      "Epoch 12/20\n",
      "\u001b[1m188/188\u001b[0m \u001b[32m━━━━━━━━━━━━━━━━━━━━\u001b[0m\u001b[37m\u001b[0m \u001b[1m27s\u001b[0m 143ms/step - accuracy: 1.0000 - loss: 0.0176 - val_accuracy: 0.9815 - val_loss: 0.0546\n",
      "Epoch 13/20\n",
      "\u001b[1m188/188\u001b[0m \u001b[32m━━━━━━━━━━━━━━━━━━━━\u001b[0m\u001b[37m\u001b[0m \u001b[1m177s\u001b[0m 944ms/step - accuracy: 0.9844 - loss: 0.0552 - val_accuracy: 0.9828 - val_loss: 0.0502\n",
      "Epoch 14/20\n",
      "\u001b[1m188/188\u001b[0m \u001b[32m━━━━━━━━━━━━━━━━━━━━\u001b[0m\u001b[37m\u001b[0m \u001b[1m29s\u001b[0m 149ms/step - accuracy: 1.0000 - loss: 0.0324 - val_accuracy: 0.9828 - val_loss: 0.0498\n",
      "Epoch 15/20\n",
      "\u001b[1m188/188\u001b[0m \u001b[32m━━━━━━━━━━━━━━━━━━━━\u001b[0m\u001b[37m\u001b[0m \u001b[1m174s\u001b[0m 926ms/step - accuracy: 0.9855 - loss: 0.0493 - val_accuracy: 0.9821 - val_loss: 0.0554\n",
      "Epoch 16/20\n",
      "\u001b[1m188/188\u001b[0m \u001b[32m━━━━━━━━━━━━━━━━━━━━\u001b[0m\u001b[37m\u001b[0m \u001b[1m28s\u001b[0m 147ms/step - accuracy: 1.0000 - loss: 0.0152 - val_accuracy: 0.9815 - val_loss: 0.0556\n",
      "Epoch 17/20\n",
      "\u001b[1m188/188\u001b[0m \u001b[32m━━━━━━━━━━━━━━━━━━━━\u001b[0m\u001b[37m\u001b[0m \u001b[1m180s\u001b[0m 957ms/step - accuracy: 0.9835 - loss: 0.0465 - val_accuracy: 0.9848 - val_loss: 0.0474\n",
      "Epoch 18/20\n",
      "\u001b[1m188/188\u001b[0m \u001b[32m━━━━━━━━━━━━━━━━━━━━\u001b[0m\u001b[37m\u001b[0m \u001b[1m28s\u001b[0m 145ms/step - accuracy: 1.0000 - loss: 0.0727 - val_accuracy: 0.9841 - val_loss: 0.0471\n",
      "Epoch 19/20\n",
      "\u001b[1m188/188\u001b[0m \u001b[32m━━━━━━━━━━━━━━━━━━━━\u001b[0m\u001b[37m\u001b[0m \u001b[1m171s\u001b[0m 911ms/step - accuracy: 0.9864 - loss: 0.0398 - val_accuracy: 0.9841 - val_loss: 0.0463\n",
      "Epoch 20/20\n",
      "\u001b[1m188/188\u001b[0m \u001b[32m━━━━━━━━━━━━━━━━━━━━\u001b[0m\u001b[37m\u001b[0m \u001b[1m28s\u001b[0m 145ms/step - accuracy: 0.9688 - loss: 0.0528 - val_accuracy: 0.9841 - val_loss: 0.0460\n",
      "[INFO] Saving the model..."
     ]
    },
    {
     "name": "stderr",
     "output_type": "stream",
     "text": [
      "WARNING:absl:You are saving your model as an HDF5 file via `model.save()` or `keras.saving.save_model(model)`. This file format is considered legacy. We recommend using instead the native Keras format, e.g. `model.save('my_model.keras')` or `keras.saving.save_model(model, 'my_model.keras')`. \n"
     ]
    },
    {
     "name": "stdout",
     "output_type": "stream",
     "text": [
      "\n"
     ]
    }
   ],
   "source": [
    "epochs = 20\n",
    "batch_size = 32\n",
    "\n",
    "print(\"[INFO] Training the model...\")\n",
    "model.fit(\n",
    "    aug.flow(trainX, trainY, batch_size=batch_size),\n",
    "    steps_per_epoch=len(trainX) // batch_size,\n",
    "    validation_data=(testX, testY),\n",
    "    validation_steps=len(testX) // batch_size,\n",
    "    epochs=epochs)\n",
    "\n",
    "# Save the trained model to disk\n",
    "print(\"[INFO] Saving the model...\")\n",
    "model.save(\"mask_detector.h5\")"
   ]
  },
  {
   "cell_type": "markdown",
   "id": "73e824f9",
   "metadata": {},
   "source": []
  }
 ],
 "metadata": {
  "kernelspec": {
   "display_name": ".venv",
   "language": "python",
   "name": "python3"
  },
  "language_info": {
   "codemirror_mode": {
    "name": "ipython",
    "version": 3
   },
   "file_extension": ".py",
   "mimetype": "text/x-python",
   "name": "python",
   "nbconvert_exporter": "python",
   "pygments_lexer": "ipython3",
   "version": "3.12.10"
  }
 },
 "nbformat": 4,
 "nbformat_minor": 5
}
